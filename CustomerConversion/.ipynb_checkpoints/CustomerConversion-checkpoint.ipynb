{
 "cells": [
  {
   "cell_type": "markdown",
   "metadata": {},
   "source": [
    "# Imports"
   ]
  },
  {
   "cell_type": "code",
   "execution_count": null,
   "metadata": {},
   "outputs": [],
   "source": [
    "import numpy as np\n",
    "import tensorflow as tf\n",
    "import torch\n",
    "import torchvision"
   ]
  },
  {
   "cell_type": "code",
   "execution_count": null,
   "metadata": {},
   "outputs": [],
   "source": [
    "import torch.nn as nn\n",
    "import torch.nn.functional as F\n",
    "from torch.utils.data import Dataset, DataLoader"
   ]
  },
  {
   "cell_type": "markdown",
   "metadata": {},
   "source": [
    "# Load Data"
   ]
  },
  {
   "cell_type": "code",
   "execution_count": null,
   "metadata": {},
   "outputs": [],
   "source": [
    "npz = np.load('Audiobooks_data_train.npz')\n",
    "train_inputs = npz['inputs'].astype(np.float) # npz is casted to array of floats\n",
    "train_targets = npz['targets'].astype(np.int) # npz is casted to array of ints\n",
    "\n",
    "npz = np.load('Audiobooks_data_validation.npz')\n",
    "validation_inputs = npz['inputs'].astype(np.float)\n",
    "validation_targets = npz['targets'].astype(np.int)\n",
    "\n",
    "npz = np.load('Audiobooks_data_test.npz')\n",
    "test_inputs = npz['inputs'].astype(np.float) \n",
    "test_targets = npz['targets'].astype(np.int)\n",
    "\n",
    "#train, validation, and test data is now in array form"
   ]
  },
  {
   "cell_type": "code",
   "execution_count": null,
   "metadata": {},
   "outputs": [],
   "source": [
    "class dds(Dataset):\n",
    "    def __init__(self, x, y):\n",
    "        self.x = x\n",
    "        self.y = y\n",
    "    \n",
    "    def __getitem__(self, index):\n",
    "        return self.x[index], self.y[index]\n",
    "    \n",
    "    def __len__(self):\n",
    "        return len(self.x)"
   ]
  },
  {
   "cell_type": "code",
   "execution_count": null,
   "metadata": {},
   "outputs": [],
   "source": [
    "torch_inputs_train = torch.tensor(train_inputs).type(torch.float32)\n",
    "torch_targets_train = torch.tensor(train_targets).type(torch.int64)\n",
    "torch_inputs_validation = torch.tensor(validation_inputs).type(torch.float32)\n",
    "torch_targets_validation = torch.tensor(validation_targets).type(torch.float32)\n",
    "torch_inputs_test = torch.tensor(test_inputs).type(torch.float32)\n",
    "torch_targets_test = torch.tensor(test_targets).type(torch.float32)\n",
    "my_train_data = dds(torch_inputs_train, torch_targets_train)\n",
    "train_loader = DataLoader(dataset = my_train_data, batch_size = 32)"
   ]
  },
  {
   "cell_type": "markdown",
   "metadata": {},
   "source": [
    "# Model"
   ]
  },
  {
   "cell_type": "markdown",
   "metadata": {},
   "source": [
    "Outline Model"
   ]
  },
  {
   "cell_type": "markdown",
   "metadata": {},
   "source": [
    "Tensorflow Keras"
   ]
  },
  {
   "cell_type": "code",
   "execution_count": null,
   "metadata": {},
   "outputs": [],
   "source": [
    "input_size = 10\n",
    "output_size = 2\n",
    "hidden_layer_size = 50\n",
    "model = tf.keras.Sequential([\n",
    "                             tf.keras.layers.Dense(hidden_layer_size, activation = 'relu'),\n",
    "                             tf.keras.layers.Dense(hidden_layer_size, activation = 'relu'),\n",
    "                             tf.keras.layers.Dense(output_size, activation = 'softmax')\n",
    "])\n",
    "model.compile(optimizer='adam', loss='sparse_categorical_crossentropy', metrics = ['accuracy'])"
   ]
  },
  {
   "cell_type": "markdown",
   "metadata": {},
   "source": [
    "PyTorch"
   ]
  },
  {
   "cell_type": "code",
   "execution_count": null,
   "metadata": {},
   "outputs": [],
   "source": [
    "input_size = 10\n",
    "hidden_layer_size = 50\n",
    "\n",
    "class Net(nn.Module):\n",
    "    def __init__(self, n_inputs, hidden_size):\n",
    "        super(Net, self).__init__()\n",
    "        self.input_size = input_size\n",
    "        self.hidden_size = hidden_layer_size\n",
    "        self.layer1 = nn.Linear(self.input_size, self.hidden_size)\n",
    "        self.layer2 = nn.Linear(self.hidden_size, self.hidden_size)\n",
    "        self.softmax = nn.Softmax(dim=1)\n",
    "    def forward(self, x):\n",
    "        x = F.relu(self.layer1(x))\n",
    "        x = F.relu(self.layer2(x))\n",
    "        x = self.softmax(x)\n",
    "        return x\n",
    "net = Net(input_size, hidden_layer_size)"
   ]
  },
  {
   "cell_type": "code",
   "execution_count": null,
   "metadata": {},
   "outputs": [],
   "source": [
    "# input_size = 10 # 10 inputs\n",
    "# output_size = 2 # 0 or 1\n",
    "# hidden_layer_size = 100\n",
    "# my_learning_rate = 0.1\n",
    "# model = tf.keras.Sequential()\n",
    "# model.add(tf.keras.layers.Dense(hidden_layer_size, \n",
    "#                                 activation = 'relu', \n",
    "#                                 kernel_regularizer=tf.keras.regularizers.l1(l=0.05)))\n",
    "# #model.add(tf.keras.layers.Dropout(rate=0.1))\n",
    "# model.add(tf.keras.layers.Dense(hidden_layer_size, \n",
    "#                                 activation = 'relu', \n",
    "#                                 kernel_regularizer=tf.keras.regularizers.l1(l=0.05)))\n",
    "# model.add(tf.keras.layers.Dense(output_size, \n",
    "#                                 activation = 'softmax'))\n",
    "# model.compile(optimizer=tf.keras.optimizers.Adam(lr=my_learning_rate),\n",
    "#                 loss=\"sparse_categorical_crossentropy\",\n",
    "#                 metrics=['accuracy'])\n"
   ]
  },
  {
   "cell_type": "markdown",
   "metadata": {},
   "source": [
    "Optimizer and Loss Function"
   ]
  },
  {
   "cell_type": "markdown",
   "metadata": {},
   "source": [
    "Tensorflow Keras"
   ]
  },
  {
   "cell_type": "code",
   "execution_count": null,
   "metadata": {},
   "outputs": [],
   "source": [
    "batch_size = 100\n",
    "NUM_EPOCHS = 100\n",
    "\n",
    "early_stopping = tf.keras.callbacks.EarlyStopping(patience = 4) # early stopping mechanism\n",
    "\n",
    "model.fit(train_inputs, \n",
    "          train_targets, \n",
    "          batch_size = batch_size, \n",
    "          epochs = NUM_EPOCHS, \n",
    "          callbacks = [early_stopping],\n",
    "          validation_data = (validation_inputs, validation_targets),\n",
    "          verbose = 2)"
   ]
  },
  {
   "cell_type": "markdown",
   "metadata": {},
   "source": [
    "PyTorch"
   ]
  },
  {
   "cell_type": "code",
   "execution_count": null,
   "metadata": {},
   "outputs": [],
   "source": [
    "optimizer = torch.optim.Adam(net.parameters(), lr = 0.001)\n",
    "criterion = nn.CrossEntropyLoss()"
   ]
  },
  {
   "cell_type": "code",
   "execution_count": null,
   "metadata": {},
   "outputs": [],
   "source": [
    "epochs = 10\n",
    "valid_accuracy = [0]\n",
    "patience = 0\n",
    "for epoch in range(epochs):\n",
    "    for features, targets in train_loader:\n",
    "        output = model(features)\n",
    "        loss = criterion(output, targets)\n",
    "        #optimizer.zero_grad()\n",
    "        loss.backward()\n",
    "        optimizer.step()\n",
    "    model.eval()\n",
    "    \n",
    "    c = torch.argmax(output.data, dim = 1)\n",
    "    train_accuracy = (c == targets).sum().item()/targets.shape[0]\n",
    "    print(\"accuracy: \", train_accuracy)\n",
    "    model.train()"
   ]
  },
  {
   "cell_type": "code",
   "execution_count": null,
   "metadata": {},
   "outputs": [],
   "source": [
    "total_loss = 0\n",
    "for x, target in zip(torch_inputs_test, torch_targets_test):\n",
    "    output = net(x)\n",
    "    loss = criterion(output, target)\n",
    "    total_loss += loss\n",
    "avg_loss = total_loss/len(torch_inputs_test)"
   ]
  },
  {
   "cell_type": "code",
   "execution_count": null,
   "metadata": {},
   "outputs": [],
   "source": [
    "test_loss, test_accuracy = model.evaluate(test_inputs,test_targets)\n",
    "print('Test loss: {0:.2f}. Test accuracy: {1:.2f}%'.format(test_loss, test_accuracy*100.))"
   ]
  },
  {
   "cell_type": "markdown",
   "metadata": {},
   "source": [
    "# Output Predictions"
   ]
  },
  {
   "cell_type": "code",
   "execution_count": null,
   "metadata": {},
   "outputs": [],
   "source": [
    "predictions = model.predict(test_inputs)\n",
    "for i in range(len(predictions)):\n",
    "    if predictions[i][0] > predictions[i][1]:\n",
    "        print(0)\n",
    "    else: \n",
    "        print(1)"
   ]
  },
  {
   "cell_type": "code",
   "execution_count": null,
   "metadata": {},
   "outputs": [],
   "source": []
  }
 ],
 "metadata": {
  "kernelspec": {
   "display_name": "Python 3",
   "language": "python",
   "name": "python3"
  },
  "language_info": {
   "codemirror_mode": {
    "name": "ipython",
    "version": 3
   },
   "file_extension": ".py",
   "mimetype": "text/x-python",
   "name": "python",
   "nbconvert_exporter": "python",
   "pygments_lexer": "ipython3",
   "version": "3.8.1"
  }
 },
 "nbformat": 4,
 "nbformat_minor": 2
}
